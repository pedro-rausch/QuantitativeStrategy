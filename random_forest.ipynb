{
 "cells": [
  {
   "cell_type": "markdown",
   "metadata": {},
   "source": [
    "### Imports & Data"
   ]
  },
  {
   "cell_type": "code",
   "execution_count": 1,
   "metadata": {},
   "outputs": [],
   "source": [
    "import numpy as np\n",
    "import pandas as pd\n",
    "import matplotlib.pyplot as plt\n",
    "from sklearn.ensemble import RandomForestClassifier\n",
    "from sklearn.metrics import confusion_matrix, ConfusionMatrixDisplay, f1_score, recall_score, precision_score"
   ]
  },
  {
   "cell_type": "markdown",
   "metadata": {},
   "source": [
    "### Data processing"
   ]
  },
  {
   "cell_type": "code",
   "execution_count": 2,
   "metadata": {},
   "outputs": [],
   "source": [
    "data1 = pd.read_csv('./Data/24h-chopinessIndex.csv')\n",
    "data2 = pd.read_csv('./Data/cci-macross.csv')\n",
    "data3 = pd.read_csv('./Data/massindex-relativeVol.csv')\n",
    "data4 = pd.read_csv('./Data/rob-vortex.csv')\n",
    "data5 = pd.read_csv('./Data/last.csv')\n",
    "data7 = pd.read_csv('./Data/ICEUS.csv')\n",
    "data8 = pd.read_csv('./Data/DXY.csv')\n",
    "data9 = pd.read_csv('./Data/SP_SPN.csv')\n",
    "data10 = pd.read_csv('./Data/SP_SPX.csv')\n",
    "data11 = pd.read_csv('./Data/GOLD.csv')\n",
    "data12 = pd.read_csv('./Data/US10Y.csv')\n",
    "data13 = pd.read_csv('./Data/USOIL.csv')\n",
    "data14 = pd.read_csv('./Data/VIX.csv')\n",
    "\n",
    "data = [data1, data2, data3, data4, data5, data7, data8, data9, data10, data11, data12, data13, data14]"
   ]
  },
  {
   "cell_type": "code",
   "execution_count": 3,
   "metadata": {},
   "outputs": [],
   "source": [
    "for i in range(len(data)):\n",
    "    data[i].set_index('time', drop=True, inplace=True)\n",
    "    data[i].index = data[i].index.str.slice(0, 10)"
   ]
  },
  {
   "cell_type": "code",
   "execution_count": 4,
   "metadata": {},
   "outputs": [],
   "source": [
    "# Renaming merged columns\n",
    "df = (\n",
    "    data1\n",
    "    .join(data2, rsuffix='_2')\n",
    "    .join(data3, rsuffix='_3')\n",
    "    .join(data4, rsuffix='_4')\n",
    "    .join(data5, rsuffix='_5')\n",
    ")\n",
    "\n",
    "# Drop last line for Close d+1 nan\n",
    "df = df.drop(df.index[len(df)-1])\n",
    "\n",
    "# Drop cols with >= 100 nan cols\n",
    "nan100_columns = df.columns[df.isna().sum() >= 100]\n",
    "df[nan100_columns].isnull().sum()\n",
    "df.drop(columns=nan100_columns, inplace=True)\n",
    "\n",
    "# Inputting nan's\n",
    "df.fillna(method='bfill', inplace=True)"
   ]
  },
  {
   "cell_type": "code",
   "execution_count": 5,
   "metadata": {},
   "outputs": [],
   "source": [
    "# Renaming merged columns\n",
    "df = (\n",
    "    df\n",
    "    .join(data7, rsuffix='_ICEUS')\n",
    "    .join(data8, rsuffix='_DXY')\n",
    "    .join(data9, rsuffix='_SP_SPN')\n",
    "    .join(data10, rsuffix='_SP_SPX')\n",
    "    .join(data11, rsuffix='_GOLD')\n",
    "    .join(data12, rsuffix='_US10Y')\n",
    "    .join(data13, rsuffix='_USOIL')\n",
    "    .join(data14, rsuffix='_VIX')\n",
    ")\n",
    "\n",
    "# Drop last line for Close d+1 nan\n",
    "df = df.drop(df.index[len(df)-1])\n",
    "df = df.fillna(method='ffill')\n",
    "\n",
    "# Drop cols with >= 100 nan cols\n",
    "nan100_columns = df.columns[df.isna().sum() >= 100]\n",
    "df[nan100_columns].isnull().sum()\n",
    "df.drop(columns=nan100_columns, inplace=True)"
   ]
  },
  {
   "cell_type": "code",
   "execution_count": 6,
   "metadata": {},
   "outputs": [],
   "source": [
    "# Removing duplicate cols\n",
    "drop_cols = []\n",
    "colunas_verificadas = set()\n",
    "for col1 in df.columns:\n",
    "    if col1 not in colunas_verificadas:\n",
    "        for col2 in df.columns:\n",
    "            if col1 != col2 and (df[col1] == df[col2]).all():\n",
    "                drop_cols.append(col2)\n",
    "                colunas_verificadas.add(col2)\n",
    "\n",
    "df=(df.drop(columns=drop_cols).\n",
    "    fillna(method='bfill').\n",
    "    fillna(method='ffill'))"
   ]
  },
  {
   "cell_type": "code",
   "execution_count": 7,
   "metadata": {},
   "outputs": [],
   "source": [
    "# Filtering period\n",
    "df.index = df.index.str.slice(0, 10)\n",
    "df = df[df.index >= '2012-01-01']"
   ]
  },
  {
   "cell_type": "code",
   "execution_count": 8,
   "metadata": {},
   "outputs": [],
   "source": [
    "# Dropping low feature importance variables (previously calculated)\n",
    "drop_cols = ['close_USOIL','Plot.5_2','Signal.1_4','True Strength Index','KST','open_USOIL','MOM','open_VIX','open_US10Y','high_DXY','low_GOLD','Elder Force Index','TRIX','high_SP_SPN','high_US10Y','BBPower','EOM','high_VIX','close_SP_SPN','Signal','close_US10Y','close_GOLD','Detrended Price Oscillator','open_DXY','high_GOLD','MACD','high_USOIL','Histogram','low_USOIL','low_VIX','low_SP_SPN','OnBalanceVolume','Lagging Span','Plot.6','low_US10Y','ADR','Accumulation/Distribution','Signal_3','open_GOLD','Plot.6_2','ATR','Smoothing Line.2','high_SP_SPX','low_SP_SPX','Leading Span A','MA №3','Aroon Down','Lower','close_SP_SPX','open_SP_SPX','Lower_2','Kumo Cloud Upper Line','Advance Decline Line','Upper_2','Aroon Up','ParabolicSAR','Plot_3','Upper Band','Lower Band','MA №2','Upper Band #3','Median EMA','Chars','Kumo Cloud Lower Line','Jaw','Leading Span B','ADR_B','Upper Band #2','Lower Band #2','TEMA','Plot.4_2','Plot.1_4','DEMA','Plot_4','Basis_2','WMA','Upper','Volatility Stop','Lower Band #1','Plot.3_2','Upper Band #1','Plot_2','Teeth','Chars.1','Plot.1_2','VWAP','Conversion Line','Plot','Lips','Median','Plot.4','TWAP','Lower.2','Basis','Smoothing Line.1','Chars.2','Lower Band #3','Basis.3','Base Line','VWMA','Lower.3','Smoothing Line_3','Upper.2','EMA','Plot.1','Chars.3','Upper.3','Plot.2_3','Plot.3_4','Plot.8']\n",
    "df.drop(columns=drop_cols, inplace=True)"
   ]
  },
  {
   "cell_type": "markdown",
   "metadata": {},
   "source": [
    "### Preparing dataframe"
   ]
  },
  {
   "cell_type": "code",
   "execution_count": 47,
   "metadata": {},
   "outputs": [],
   "source": [
    "# Data selection\n",
    "data = df.copy()\n",
    "\n",
    "# Adding return\n",
    "data['return'] = data['close'].pct_change()\n",
    "\n",
    "# Adding past returns\n",
    "for i in range(1,6):\n",
    "    data[f'return d-{i}'] = data['return'].shift(i)\n",
    "\n",
    "# Adding future returns\n",
    "data['return d+1'] = data['return'].shift(-1)\n",
    "\n",
    "# Adding target (price[i+10] >= price[i])\n",
    "data['Sign'] = (data['close'].shift(-1) >= data['close']).apply(lambda x: 1 if x else -1)\n",
    "data = data.iloc[:-10]\n",
    "\n",
    "# Dropping first 6 lines and last line (due to nan's)\n",
    "data = data.iloc[6:-1]\n",
    "\n",
    "# Dropping open, high, low, close\n",
    "data_res = data[['open', 'high', 'low', 'close', 'return d+1']]\n",
    "data.drop(columns=['open', 'high', 'low', 'close', 'return d+1'], inplace=True)\n",
    "\n",
    "# Get columns\n",
    "cols = data.columns\n",
    "\n",
    "# Splitting data\n",
    "df_past = data.loc[ data.index < '2019-01-01'].sort_index()\n",
    "df_future = data.loc[ (data.index >= '2019-01-01') & (data.index < '2023-01-01')].sort_index()\n",
    "\n",
    "# Train-Test setting\n",
    "X_train = df_past[cols[:-1]]\n",
    "y_train = df_past[cols[-1]]\n",
    "\n",
    "X_test = df_future[cols[:-1]]\n",
    "y_test = df_future[cols[-1]]\n",
    "\n",
    "# Exporting X and y to be used on tunning phase\n",
    "X_train.to_csv('X_past.csv')\n",
    "y_train.to_csv('y_past.csv')"
   ]
  },
  {
   "cell_type": "code",
   "execution_count": 43,
   "metadata": {},
   "outputs": [
    {
     "name": "stderr",
     "output_type": "stream",
     "text": [
      "c:\\Users\\Homeoffice\\anaconda3\\lib\\site-packages\\sklearn\\ensemble\\_forest.py:424: FutureWarning: `max_features='auto'` has been deprecated in 1.1 and will be removed in 1.3. To keep the past behaviour, explicitly set `max_features='sqrt'` or remove this parameter as it is also the default value for RandomForestClassifiers and ExtraTreesClassifiers.\n",
      "  warn(\n"
     ]
    },
    {
     "data": {
      "text/html": [
       "<style>#sk-container-id-2 {color: black;background-color: white;}#sk-container-id-2 pre{padding: 0;}#sk-container-id-2 div.sk-toggleable {background-color: white;}#sk-container-id-2 label.sk-toggleable__label {cursor: pointer;display: block;width: 100%;margin-bottom: 0;padding: 0.3em;box-sizing: border-box;text-align: center;}#sk-container-id-2 label.sk-toggleable__label-arrow:before {content: \"▸\";float: left;margin-right: 0.25em;color: #696969;}#sk-container-id-2 label.sk-toggleable__label-arrow:hover:before {color: black;}#sk-container-id-2 div.sk-estimator:hover label.sk-toggleable__label-arrow:before {color: black;}#sk-container-id-2 div.sk-toggleable__content {max-height: 0;max-width: 0;overflow: hidden;text-align: left;background-color: #f0f8ff;}#sk-container-id-2 div.sk-toggleable__content pre {margin: 0.2em;color: black;border-radius: 0.25em;background-color: #f0f8ff;}#sk-container-id-2 input.sk-toggleable__control:checked~div.sk-toggleable__content {max-height: 200px;max-width: 100%;overflow: auto;}#sk-container-id-2 input.sk-toggleable__control:checked~label.sk-toggleable__label-arrow:before {content: \"▾\";}#sk-container-id-2 div.sk-estimator input.sk-toggleable__control:checked~label.sk-toggleable__label {background-color: #d4ebff;}#sk-container-id-2 div.sk-label input.sk-toggleable__control:checked~label.sk-toggleable__label {background-color: #d4ebff;}#sk-container-id-2 input.sk-hidden--visually {border: 0;clip: rect(1px 1px 1px 1px);clip: rect(1px, 1px, 1px, 1px);height: 1px;margin: -1px;overflow: hidden;padding: 0;position: absolute;width: 1px;}#sk-container-id-2 div.sk-estimator {font-family: monospace;background-color: #f0f8ff;border: 1px dotted black;border-radius: 0.25em;box-sizing: border-box;margin-bottom: 0.5em;}#sk-container-id-2 div.sk-estimator:hover {background-color: #d4ebff;}#sk-container-id-2 div.sk-parallel-item::after {content: \"\";width: 100%;border-bottom: 1px solid gray;flex-grow: 1;}#sk-container-id-2 div.sk-label:hover label.sk-toggleable__label {background-color: #d4ebff;}#sk-container-id-2 div.sk-serial::before {content: \"\";position: absolute;border-left: 1px solid gray;box-sizing: border-box;top: 0;bottom: 0;left: 50%;z-index: 0;}#sk-container-id-2 div.sk-serial {display: flex;flex-direction: column;align-items: center;background-color: white;padding-right: 0.2em;padding-left: 0.2em;position: relative;}#sk-container-id-2 div.sk-item {position: relative;z-index: 1;}#sk-container-id-2 div.sk-parallel {display: flex;align-items: stretch;justify-content: center;background-color: white;position: relative;}#sk-container-id-2 div.sk-item::before, #sk-container-id-2 div.sk-parallel-item::before {content: \"\";position: absolute;border-left: 1px solid gray;box-sizing: border-box;top: 0;bottom: 0;left: 50%;z-index: -1;}#sk-container-id-2 div.sk-parallel-item {display: flex;flex-direction: column;z-index: 1;position: relative;background-color: white;}#sk-container-id-2 div.sk-parallel-item:first-child::after {align-self: flex-end;width: 50%;}#sk-container-id-2 div.sk-parallel-item:last-child::after {align-self: flex-start;width: 50%;}#sk-container-id-2 div.sk-parallel-item:only-child::after {width: 0;}#sk-container-id-2 div.sk-dashed-wrapped {border: 1px dashed gray;margin: 0 0.4em 0.5em 0.4em;box-sizing: border-box;padding-bottom: 0.4em;background-color: white;}#sk-container-id-2 div.sk-label label {font-family: monospace;font-weight: bold;display: inline-block;line-height: 1.2em;}#sk-container-id-2 div.sk-label-container {text-align: center;}#sk-container-id-2 div.sk-container {/* jupyter's `normalize.less` sets `[hidden] { display: none; }` but bootstrap.min.css set `[hidden] { display: none !important; }` so we also need the `!important` here to be able to override the default hidden behavior on the sphinx rendered scikit-learn.org. See: https://github.com/scikit-learn/scikit-learn/issues/21755 */display: inline-block !important;position: relative;}#sk-container-id-2 div.sk-text-repr-fallback {display: none;}</style><div id=\"sk-container-id-2\" class=\"sk-top-container\"><div class=\"sk-text-repr-fallback\"><pre>RandomForestClassifier(class_weight=&#x27;balanced&#x27;, max_depth=30,\n",
       "                       max_features=&#x27;auto&#x27;, min_samples_leaf=4,\n",
       "                       n_estimators=1200, random_state=0)</pre><b>In a Jupyter environment, please rerun this cell to show the HTML representation or trust the notebook. <br />On GitHub, the HTML representation is unable to render, please try loading this page with nbviewer.org.</b></div><div class=\"sk-container\" hidden><div class=\"sk-item\"><div class=\"sk-estimator sk-toggleable\"><input class=\"sk-toggleable__control sk-hidden--visually\" id=\"sk-estimator-id-2\" type=\"checkbox\" checked><label for=\"sk-estimator-id-2\" class=\"sk-toggleable__label sk-toggleable__label-arrow\">RandomForestClassifier</label><div class=\"sk-toggleable__content\"><pre>RandomForestClassifier(class_weight=&#x27;balanced&#x27;, max_depth=30,\n",
       "                       max_features=&#x27;auto&#x27;, min_samples_leaf=4,\n",
       "                       n_estimators=1200, random_state=0)</pre></div></div></div></div></div>"
      ],
      "text/plain": [
       "RandomForestClassifier(class_weight='balanced', max_depth=30,\n",
       "                       max_features='auto', min_samples_leaf=4,\n",
       "                       n_estimators=1200, random_state=0)"
      ]
     },
     "execution_count": 43,
     "metadata": {},
     "output_type": "execute_result"
    }
   ],
   "source": [
    "# Training model\n",
    "model = RandomForestClassifier( bootstrap = True,\n",
    "                                class_weight= \"balanced\",\n",
    "                                n_estimators = 1200,\n",
    "                                min_samples_split = 2,\n",
    "                                min_samples_leaf = 4,\n",
    "                                max_features = 'auto',\n",
    "                                max_depth = 30,\n",
    "                                random_state = 0)\n",
    "model.fit(X_train, y_train)"
   ]
  },
  {
   "cell_type": "code",
   "execution_count": 49,
   "metadata": {},
   "outputs": [
    {
     "data": {
      "image/png": "[encoded data removed]",
      "text/plain": [
       "<Figure size 640x480 with 2 Axes>"
      ]
     },
     "metadata": {},
     "output_type": "display_data"
    },
    {
     "name": "stdout",
     "output_type": "stream",
     "text": [
      "f1_score:  0.5984654731457801\n",
      "recall_score:  0.6198675496688741\n",
      "precision_score:  0.5784919653893696\n"
     ]
    }
   ],
   "source": [
    "# Testing model\n",
    "preds = model.predict(X_test)\n",
    "\n",
    "cm = confusion_matrix(y_test, preds)\n",
    "disp = ConfusionMatrixDisplay(confusion_matrix=cm)\n",
    "disp.plot()\n",
    "plt.show()\n",
    "\n",
    "print('f1_score: ', f1_score(y_test, preds))\n",
    "print('recall_score: ', recall_score(y_test, preds))\n",
    "print('precision_score: ', precision_score(y_test, preds))"
   ]
  },
  {
   "cell_type": "code",
   "execution_count": 104,
   "metadata": {},
   "outputs": [
    {
     "data": {
      "text/html": [
       "<div>\n",
       "<style scoped>\n",
       "    .dataframe tbody tr th:only-of-type {\n",
       "        vertical-align: middle;\n",
       "    }\n",
       "\n",
       "    .dataframe tbody tr th {\n",
       "        vertical-align: top;\n",
       "    }\n",
       "\n",
       "    .dataframe thead th {\n",
       "        text-align: right;\n",
       "    }\n",
       "</style>\n",
       "<table border=\"1\" class=\"dataframe\">\n",
       "  <thead>\n",
       "    <tr style=\"text-align: right;\">\n",
       "      <th></th>\n",
       "      <th>pred_sign</th>\n",
       "      <th>prob_sign_is_1</th>\n",
       "      <th>true_sign</th>\n",
       "      <th>return_d</th>\n",
       "      <th>return_d+1</th>\n",
       "      <th>close_d</th>\n",
       "      <th>close_d+1</th>\n",
       "    </tr>\n",
       "    <tr>\n",
       "      <th>time</th>\n",
       "      <th></th>\n",
       "      <th></th>\n",
       "      <th></th>\n",
       "      <th></th>\n",
       "      <th></th>\n",
       "      <th></th>\n",
       "      <th></th>\n",
       "    </tr>\n",
       "  </thead>\n",
       "  <tbody>\n",
       "    <tr>\n",
       "      <th>2019-01-01</th>\n",
       "      <td>1</td>\n",
       "      <td>0.519743</td>\n",
       "      <td>1</td>\n",
       "      <td>0.035237</td>\n",
       "      <td>0.016328</td>\n",
       "      <td>3823.44</td>\n",
       "      <td>3885.87</td>\n",
       "    </tr>\n",
       "    <tr>\n",
       "      <th>2019-01-02</th>\n",
       "      <td>-1</td>\n",
       "      <td>0.272794</td>\n",
       "      <td>-1</td>\n",
       "      <td>0.016328</td>\n",
       "      <td>-0.025235</td>\n",
       "      <td>3885.87</td>\n",
       "      <td>3787.81</td>\n",
       "    </tr>\n",
       "    <tr>\n",
       "      <th>2019-01-03</th>\n",
       "      <td>-1</td>\n",
       "      <td>0.468451</td>\n",
       "      <td>1</td>\n",
       "      <td>-0.025235</td>\n",
       "      <td>0.007894</td>\n",
       "      <td>3787.81</td>\n",
       "      <td>3817.71</td>\n",
       "    </tr>\n",
       "    <tr>\n",
       "      <th>2019-01-04</th>\n",
       "      <td>1</td>\n",
       "      <td>0.602226</td>\n",
       "      <td>-1</td>\n",
       "      <td>0.007894</td>\n",
       "      <td>-0.006776</td>\n",
       "      <td>3817.71</td>\n",
       "      <td>3791.84</td>\n",
       "    </tr>\n",
       "    <tr>\n",
       "      <th>2019-01-05</th>\n",
       "      <td>-1</td>\n",
       "      <td>0.473883</td>\n",
       "      <td>1</td>\n",
       "      <td>-0.006776</td>\n",
       "      <td>0.065633</td>\n",
       "      <td>3791.84</td>\n",
       "      <td>4040.71</td>\n",
       "    </tr>\n",
       "    <tr>\n",
       "      <th>...</th>\n",
       "      <td>...</td>\n",
       "      <td>...</td>\n",
       "      <td>...</td>\n",
       "      <td>...</td>\n",
       "      <td>...</td>\n",
       "      <td>...</td>\n",
       "      <td>...</td>\n",
       "    </tr>\n",
       "    <tr>\n",
       "      <th>2022-12-27</th>\n",
       "      <td>-1</td>\n",
       "      <td>0.468253</td>\n",
       "      <td>-1</td>\n",
       "      <td>-0.012827</td>\n",
       "      <td>-0.009581</td>\n",
       "      <td>16700.00</td>\n",
       "      <td>16540.00</td>\n",
       "    </tr>\n",
       "    <tr>\n",
       "      <th>2022-12-28</th>\n",
       "      <td>-1</td>\n",
       "      <td>0.498983</td>\n",
       "      <td>1</td>\n",
       "      <td>-0.009581</td>\n",
       "      <td>0.005320</td>\n",
       "      <td>16540.00</td>\n",
       "      <td>16628.00</td>\n",
       "    </tr>\n",
       "    <tr>\n",
       "      <th>2022-12-29</th>\n",
       "      <td>1</td>\n",
       "      <td>0.525450</td>\n",
       "      <td>-1</td>\n",
       "      <td>0.005320</td>\n",
       "      <td>-0.001503</td>\n",
       "      <td>16628.00</td>\n",
       "      <td>16603.00</td>\n",
       "    </tr>\n",
       "    <tr>\n",
       "      <th>2022-12-30</th>\n",
       "      <td>1</td>\n",
       "      <td>0.653575</td>\n",
       "      <td>-1</td>\n",
       "      <td>-0.001503</td>\n",
       "      <td>-0.004517</td>\n",
       "      <td>16603.00</td>\n",
       "      <td>NaN</td>\n",
       "    </tr>\n",
       "    <tr>\n",
       "      <th>2022-12-31</th>\n",
       "      <td>1</td>\n",
       "      <td>0.554732</td>\n",
       "      <td>1</td>\n",
       "      <td>-0.004517</td>\n",
       "      <td>NaN</td>\n",
       "      <td>NaN</td>\n",
       "      <td>NaN</td>\n",
       "    </tr>\n",
       "  </tbody>\n",
       "</table>\n",
       "<p>1461 rows × 7 columns</p>\n",
       "</div>"
      ],
      "text/plain": [
       "            pred_sign  prob_sign_is_1  true_sign  return_d  return_d+1  \\\n",
       "time                                                                     \n",
       "2019-01-01          1        0.519743          1  0.035237    0.016328   \n",
       "2019-01-02         -1        0.272794         -1  0.016328   -0.025235   \n",
       "2019-01-03         -1        0.468451          1 -0.025235    0.007894   \n",
       "2019-01-04          1        0.602226         -1  0.007894   -0.006776   \n",
       "2019-01-05         -1        0.473883          1 -0.006776    0.065633   \n",
       "...               ...             ...        ...       ...         ...   \n",
       "2022-12-27         -1        0.468253         -1 -0.012827   -0.009581   \n",
       "2022-12-28         -1        0.498983          1 -0.009581    0.005320   \n",
       "2022-12-29          1        0.525450         -1  0.005320   -0.001503   \n",
       "2022-12-30          1        0.653575         -1 -0.001503   -0.004517   \n",
       "2022-12-31          1        0.554732          1 -0.004517         NaN   \n",
       "\n",
       "             close_d  close_d+1  \n",
       "time                             \n",
       "2019-01-01   3823.44    3885.87  \n",
       "2019-01-02   3885.87    3787.81  \n",
       "2019-01-03   3787.81    3817.71  \n",
       "2019-01-04   3817.71    3791.84  \n",
       "2019-01-05   3791.84    4040.71  \n",
       "...              ...        ...  \n",
       "2022-12-27  16700.00   16540.00  \n",
       "2022-12-28  16540.00   16628.00  \n",
       "2022-12-29  16628.00   16603.00  \n",
       "2022-12-30  16603.00        NaN  \n",
       "2022-12-31       NaN        NaN  \n",
       "\n",
       "[1461 rows x 7 columns]"
      ]
     },
     "execution_count": 104,
     "metadata": {},
     "output_type": "execute_result"
    }
   ],
   "source": [
    "# Creating results dataframe\n",
    "results = pd.DataFrame({\n",
    "    \"pred_sign\": preds,\n",
    "    \"prob_sign_is_1\": model.predict_proba(X_test)[:,1],\n",
    "    \"true_sign\": y_test,\n",
    "    \"return_d\": X_test['return'],\n",
    "    \"return_d+1\": data_res['return d+1'].loc[ (data.index >= '2019-01-01') & (data.index < '2023-01-01') ].iloc[:-1],    \n",
    "    \"close_d\": data_res['close'].loc[ (data.index >= '2019-01-01') & (data.index < '2023-01-01') ].iloc[:-1],\n",
    "    \"close_d+1\": data_res['close'].loc[ (data.index >= '2019-01-01') & (data.index < '2023-01-01') ].iloc[:-1].shift(-1)\n",
    "    #\"d+1_true\": data_res['close'].loc[ (data.index >= '2019-01-01') & (data.index < '2023-01-01') ].iloc[:-1].shift(-1),\n",
    "    #\"high\": data_res['high'].loc[ (data.index >= '2019-01-01') & (data.index < '2023-01-01') ].iloc[:-1].shift(1),\n",
    "    #\"low\": data_res['low'].loc[ (data.index >= '2019-01-01') & (data.index < '2023-01-01') ].iloc[:-1].shift(1)\n",
    "})\n",
    "results"
   ]
  },
  {
   "cell_type": "code",
   "execution_count": 14,
   "metadata": {},
   "outputs": [],
   "source": [
    "# Getting feature importances to drop less relevant feats\n",
    "for feat, importance in zip(df_past.columns[:-1], model.feature_importances_):\n",
    "    pass\n",
    "\n",
    "feat_importance = pd.DataFrame({'feat':df_past.columns[:-1],  'importance':model.feature_importances_})\n",
    "feat_importance.sort_values('importance', ascending=False, inplace=True)"
   ]
  },
  {
   "cell_type": "code",
   "execution_count": 68,
   "metadata": {},
   "outputs": [],
   "source": [
    "# Exporting results\n",
    "results.reset_index().to_csv('output_rf_final.csv')"
   ]
  }
 ],
 "metadata": {
  "kernelspec": {
   "display_name": "Python 3",
   "language": "python",
   "name": "python3"
  },
  "language_info": {
   "codemirror_mode": {
    "name": "ipython",
    "version": 3
   },
   "file_extension": ".py",
   "mimetype": "text/x-python",
   "name": "python",
   "nbconvert_exporter": "python",
   "pygments_lexer": "ipython3",
   "version": "3.9.13"
  },
  "orig_nbformat": 4
 },
 "nbformat": 4,
 "nbformat_minor": 2
}
